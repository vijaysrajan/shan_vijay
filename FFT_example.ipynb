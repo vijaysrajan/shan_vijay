{
 "cells": [
  {
   "cell_type": "code",
   "execution_count": 5,
   "id": "d98b4a51-7bad-4f2a-85f3-6134daae5a66",
   "metadata": {
    "tags": []
   },
   "outputs": [],
   "source": [
    "import numpy as np\n",
    "\n",
    "def even_odd_decomposition(signal):\n",
    "    \"\"\"\n",
    "    Decomposes a signal into two signals, one with even-numbered terms and one with odd-numbered terms.\n",
    "\n",
    "    Args:\n",
    "    signal: The signal to decompose.\n",
    "\n",
    "    Returns:\n",
    "    A tuple of two signals, one with even-numbered terms and one with odd-numbered terms.\n",
    "    \"\"\"\n",
    "    \n",
    "    n = len(signal)\n",
    "    df = np.fft.fft(signal)\n",
    "    print(df)\n",
    "    even_terms = df[::2]\n",
    "    odd_terms = df[1::2]\n",
    "\n",
    "    return even_terms, odd_terms"
   ]
  },
  {
   "cell_type": "code",
   "execution_count": 6,
   "id": "be31b146-26ff-4470-bdfc-cfcbd7bfb2fd",
   "metadata": {
    "tags": []
   },
   "outputs": [
    {
     "name": "stdout",
     "output_type": "stream",
     "text": [
      "[12.        +0.j  0.        +0.j  0.        +0.j  0.        +0.j\n",
      " -2.47213595+0.j  0.        +0.j  0.        +0.j  0.        +0.j\n",
      "  6.47213595+0.j  0.        +0.j  0.        +0.j  0.        +0.j\n",
      "  6.47213595+0.j  0.        +0.j  0.        +0.j  0.        +0.j\n",
      " -2.47213595+0.j  0.        +0.j  0.        +0.j  0.        +0.j]\n",
      "[12.        +0.j  0.        +0.j -2.47213595+0.j  0.        +0.j\n",
      "  6.47213595+0.j  0.        +0.j  6.47213595+0.j  0.        +0.j\n",
      " -2.47213595+0.j  0.        +0.j]\n",
      "[0.+0.j 0.+0.j 0.+0.j 0.+0.j 0.+0.j 0.+0.j 0.+0.j 0.+0.j 0.+0.j 0.+0.j]\n"
     ]
    }
   ],
   "source": [
    "import numpy as np\n",
    "signal = np.array([1,0,1,1,0,1,0,1,1,0,1,0,1,1,0,1,0,1,1,0])\n",
    "\n",
    "even_terms, odd_terms = even_odd_decomposition(signal)\n",
    "\n",
    "print(even_terms)\n",
    "print(odd_terms)"
   ]
  }
 ],
 "metadata": {
  "kernelspec": {
   "display_name": "Python 3 (ipykernel)",
   "language": "python",
   "name": "python3"
  },
  "language_info": {
   "codemirror_mode": {
    "name": "ipython",
    "version": 3
   },
   "file_extension": ".py",
   "mimetype": "text/x-python",
   "name": "python",
   "nbconvert_exporter": "python",
   "pygments_lexer": "ipython3",
   "version": "3.9.6"
  }
 },
 "nbformat": 4,
 "nbformat_minor": 5
}
