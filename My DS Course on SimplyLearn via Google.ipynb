{
 "cells": [
  {
   "cell_type": "code",
   "execution_count": null,
   "id": "b288af41",
   "metadata": {},
   "outputs": [],
   "source": [
    "import pandas as pd"
   ]
  },
  {
   "cell_type": "code",
   "execution_count": null,
   "id": "5f236057",
   "metadata": {},
   "outputs": [],
   "source": [
    "loan_df = pd.read_csv(\"/Users/vijayrajan/Downloads/loan_data_set.csv\")"
   ]
  },
  {
   "cell_type": "code",
   "execution_count": null,
   "id": "8dba212d",
   "metadata": {},
   "outputs": [],
   "source": [
    "loan_df.head()"
   ]
  },
  {
   "cell_type": "code",
   "execution_count": null,
   "id": "88f56100",
   "metadata": {},
   "outputs": [],
   "source": [
    "import numpy as np"
   ]
  },
  {
   "cell_type": "code",
   "execution_count": null,
   "id": "1bf91cd1",
   "metadata": {},
   "outputs": [],
   "source": [
    "np_arr_1_5 = np.array([1,2,3,4,5])"
   ]
  },
  {
   "cell_type": "code",
   "execution_count": null,
   "id": "fb1d91bf",
   "metadata": {},
   "outputs": [],
   "source": [
    "print(np_arr_1_5)"
   ]
  },
  {
   "cell_type": "code",
   "execution_count": null,
   "id": "ad320346",
   "metadata": {},
   "outputs": [],
   "source": [
    "np_arr_zeros = np.zeros((2,3,4))"
   ]
  },
  {
   "cell_type": "code",
   "execution_count": null,
   "id": "0e16f57f",
   "metadata": {},
   "outputs": [],
   "source": [
    "np_arr_zeros"
   ]
  },
  {
   "cell_type": "code",
   "execution_count": null,
   "id": "1f8d51af",
   "metadata": {},
   "outputs": [],
   "source": [
    "np_arr_ones = np.ones((2,3,4))"
   ]
  },
  {
   "cell_type": "code",
   "execution_count": null,
   "id": "9d8b4568",
   "metadata": {},
   "outputs": [],
   "source": [
    "np_arr_ones"
   ]
  },
  {
   "cell_type": "code",
   "execution_count": null,
   "id": "1c401103",
   "metadata": {},
   "outputs": [],
   "source": [
    "np_arr_empty = np.empty((5,6))\n",
    "np_arr_empty"
   ]
  },
  {
   "cell_type": "code",
   "execution_count": null,
   "id": "3fc5c707",
   "metadata": {},
   "outputs": [],
   "source": [
    "np_arr_arange = np.arange(20)\n",
    "np_arr_arange"
   ]
  },
  {
   "cell_type": "code",
   "execution_count": null,
   "id": "b6252eef",
   "metadata": {},
   "outputs": [],
   "source": [
    "np_arr_arange.reshape(2,10)"
   ]
  },
  {
   "cell_type": "code",
   "execution_count": null,
   "id": "df57de16",
   "metadata": {},
   "outputs": [],
   "source": [
    "np_arr_linspace = np.linspace(0,10,17)\n",
    "print(np_arr_linspace)"
   ]
  },
  {
   "cell_type": "code",
   "execution_count": null,
   "id": "b4050749",
   "metadata": {},
   "outputs": [],
   "source": [
    "oneD_arr = np.arange(72)\n",
    "oneD_arr"
   ]
  },
  {
   "cell_type": "code",
   "execution_count": null,
   "id": "f959f28d",
   "metadata": {},
   "outputs": [],
   "source": [
    "twoD_arr = oneD_arr.reshape(8,9)\n",
    "twoD_arr"
   ]
  },
  {
   "cell_type": "code",
   "execution_count": null,
   "id": "3feb2a12",
   "metadata": {},
   "outputs": [],
   "source": [
    "threeD_arr = np.arange(24).reshape((2,3,4))\n",
    "print(threeD_arr)"
   ]
  },
  {
   "cell_type": "code",
   "execution_count": null,
   "id": "0dd4079d",
   "metadata": {},
   "outputs": [],
   "source": [
    "twoD_arr.ndim"
   ]
  },
  {
   "cell_type": "code",
   "execution_count": null,
   "id": "389193df",
   "metadata": {},
   "outputs": [],
   "source": [
    "threeD_arr.ndim"
   ]
  },
  {
   "cell_type": "code",
   "execution_count": null,
   "id": "215fa9ef",
   "metadata": {},
   "outputs": [],
   "source": [
    "threeD_arr.shape"
   ]
  },
  {
   "cell_type": "code",
   "execution_count": null,
   "id": "548e7f18",
   "metadata": {},
   "outputs": [],
   "source": [
    "threeD_arr.size"
   ]
  },
  {
   "cell_type": "code",
   "execution_count": null,
   "id": "960491be",
   "metadata": {},
   "outputs": [],
   "source": [
    "threeD_arr.dtype"
   ]
  },
  {
   "cell_type": "code",
   "execution_count": null,
   "id": "80c7fa34",
   "metadata": {},
   "outputs": [],
   "source": [
    "twoD_arr.dtype"
   ]
  },
  {
   "cell_type": "code",
   "execution_count": null,
   "id": "8afcda9e",
   "metadata": {},
   "outputs": [],
   "source": [
    "np_arr_empty.dtype"
   ]
  },
  {
   "cell_type": "code",
   "execution_count": null,
   "id": "b955cb42",
   "metadata": {},
   "outputs": [],
   "source": [
    "np_array_of_string = np.array((\"Vijay\", \"Shuba\", \"Kavya\", \"Keertana\", \"Nandini\", \"Rajesh\", \"Avi\", \"Sunil\", \"Lakshmi\"))"
   ]
  },
  {
   "cell_type": "code",
   "execution_count": null,
   "id": "497fa287",
   "metadata": {},
   "outputs": [],
   "source": [
    "print(np_array_of_string.dtype)\n",
    "print(np_array_of_string.shape)\n",
    "print(np_array_of_string.ndim)\n",
    "print(np_array_of_string.size)"
   ]
  },
  {
   "cell_type": "code",
   "execution_count": null,
   "id": "1a0c7c9d",
   "metadata": {},
   "outputs": [],
   "source": [
    "\n",
    "print(np_arr_1_5.dtype)\n",
    "print(np_arr_1_5.shape)\n",
    "print(np_arr_1_5.ndim)\n",
    "print(np_arr_1_5.size)\n"
   ]
  },
  {
   "cell_type": "code",
   "execution_count": null,
   "id": "c357f218",
   "metadata": {},
   "outputs": [],
   "source": [
    "print(np_array_of_string.itemsize)"
   ]
  },
  {
   "cell_type": "code",
   "execution_count": null,
   "id": "9df6216c",
   "metadata": {},
   "outputs": [],
   "source": [
    "print(np_arr_1_5)\n",
    "print(np_arr_1_5.dtype)\n",
    "print(np_arr_1_5.itemsize)\n",
    "print(np_arr_1_5.shape)\n"
   ]
  },
  {
   "cell_type": "code",
   "execution_count": null,
   "id": "7c66d942",
   "metadata": {},
   "outputs": [],
   "source": [
    "print(np_arr_1_5.data[0])"
   ]
  },
  {
   "cell_type": "code",
   "execution_count": null,
   "id": "e56a5610",
   "metadata": {},
   "outputs": [],
   "source": [
    "np_zeroD_arr = np.array(24)"
   ]
  },
  {
   "cell_type": "code",
   "execution_count": null,
   "id": "0dd66d13",
   "metadata": {},
   "outputs": [],
   "source": [
    "print(np_zeroD_arr)"
   ]
  },
  {
   "cell_type": "code",
   "execution_count": null,
   "id": "21be4dcb",
   "metadata": {},
   "outputs": [],
   "source": [
    "#print(np_zeroD_arr.data)\n",
    "np_oned_array = np.array([1,2,3,4,5])\n",
    "print(np_oned_array)"
   ]
  },
  {
   "cell_type": "code",
   "execution_count": 2,
   "id": "34a6317d",
   "metadata": {},
   "outputs": [
    {
     "name": "stdout",
     "output_type": "stream",
     "text": [
      "[[  1   2   3   4   5]\n",
      " [100 101 102 103 104]]\n"
     ]
    }
   ],
   "source": [
    "np_2d_array = np.array([[1,2,3,4,5],[100,101,102,103,104]])\n",
    "print(np_2d_array)\n",
    "#np.array([[1,2,3,4,5],[100,101,102,103]]) - the two sub arrays do not have the same length and numpy barfs"
   ]
  },
  {
   "cell_type": "code",
   "execution_count": null,
   "id": "1142f48a",
   "metadata": {},
   "outputs": [],
   "source": [
    "np_3d_array = np.array([[[1,2,3,4,5], [0,9,8,7,6]],[[100,101,102,103,104], [11,12,13,14,15]], [[6,7,8,9,10], [33,44,55,66,77]]])\n",
    "print(np_3d_array)"
   ]
  },
  {
   "cell_type": "code",
   "execution_count": null,
   "id": "9149cfe3",
   "metadata": {},
   "outputs": [],
   "source": [
    "print(np_3d_array.shape)"
   ]
  },
  {
   "cell_type": "code",
   "execution_count": null,
   "id": "5b0493b1",
   "metadata": {},
   "outputs": [],
   "source": [
    "print(np_3d_array.ndim)"
   ]
  },
  {
   "cell_type": "code",
   "execution_count": null,
   "id": "0aebb4a4",
   "metadata": {},
   "outputs": [],
   "source": [
    "np_arr_24 = np.array([x for x in range(1,25)])\n",
    "print(np_arr_24)"
   ]
  },
  {
   "cell_type": "code",
   "execution_count": null,
   "id": "01e2942c",
   "metadata": {},
   "outputs": [],
   "source": [
    "np_arr_24.reshape(3,8)"
   ]
  },
  {
   "cell_type": "code",
   "execution_count": null,
   "id": "a2e51d71",
   "metadata": {},
   "outputs": [],
   "source": [
    "np_arr_24.reshape(2,3,4)"
   ]
  },
  {
   "cell_type": "code",
   "execution_count": null,
   "id": "b5c7ab74",
   "metadata": {},
   "outputs": [],
   "source": [
    "np_arr_2_3_4 = np_arr_24.reshape(2,3,-1)"
   ]
  },
  {
   "cell_type": "code",
   "execution_count": null,
   "id": "aea969e7",
   "metadata": {},
   "outputs": [],
   "source": [
    "np_arr_2_3_4.reshape(-1)\n",
    "test = np_arr_24.reshape(3,2,-1)"
   ]
  },
  {
   "cell_type": "code",
   "execution_count": null,
   "id": "d532a1f9",
   "metadata": {
    "tags": []
   },
   "outputs": [],
   "source": [
    "A = np.array([[1,2,3],[4,5,6]])\n",
    "B = np.array([7,8,9])\n",
    "\n",
    "C = np.add(A,B)\n",
    "\n",
    "print(\"-----A-------\")\n",
    "print(A)\n",
    "print(\"-----B-------\")\n",
    "print(B)\n",
    "print(\"-----C-------\")\n",
    "print(C)"
   ]
  },
  {
   "cell_type": "code",
   "execution_count": null,
   "id": "26fc07d2",
   "metadata": {},
   "outputs": [],
   "source": [
    "D = np.subtract(A,B)\n",
    "print(D)"
   ]
  },
  {
   "cell_type": "code",
   "execution_count": null,
   "id": "22eddaad",
   "metadata": {},
   "outputs": [],
   "source": [
    "E = np.subtract(B,A)\n",
    "print(E)"
   ]
  },
  {
   "cell_type": "code",
   "execution_count": null,
   "id": "53999b93",
   "metadata": {},
   "outputs": [],
   "source": [
    "print(\"-----A-------\")\n",
    "print(A)\n",
    "print(\"-----B-------\")\n",
    "print(B)\n",
    "np.multiply(A,B)"
   ]
  },
  {
   "cell_type": "code",
   "execution_count": null,
   "id": "9446c0bb",
   "metadata": {},
   "outputs": [],
   "source": [
    "print(\"-----A-------\")\n",
    "print(A)\n",
    "print(\"-----B-------\")\n",
    "print(B)\n",
    "F=np.multiply(B,A)\n",
    "G=np.multiply(A,B)\n",
    "\n",
    "print(F)\n",
    "print(G)"
   ]
  },
  {
   "cell_type": "code",
   "execution_count": null,
   "id": "8a3b6d88",
   "metadata": {},
   "outputs": [],
   "source": [
    "print(\"-----A-------\")\n",
    "print(A)\n",
    "print(\"-----B-------\")\n",
    "print(B)\n",
    "\n",
    "F=np.divide(B,A)\n",
    "G=np.divide(A,B)\n",
    "print(\"--------------\\n\\n\")\n",
    "print(F)\n",
    "print(\"--------------\\n\")\n",
    "\n",
    "\n",
    "print(G)"
   ]
  },
  {
   "cell_type": "code",
   "execution_count": null,
   "id": "021b0de5",
   "metadata": {},
   "outputs": [],
   "source": [
    "print(\"-----A-------\")\n",
    "print(A)\n",
    "print(\"-----B-------\")\n",
    "print(B)\n",
    "\n",
    "H = np.power(B,2)\n",
    "I = np.power(A,2)\n",
    "J = np.power(A,B)\n",
    "K = np.power(B,A)\n",
    "print(\"--------------\\n\")\n",
    "print(H)\n",
    "print(\"--------------\\n\")\n",
    "print(I)\n",
    "print(\"--------------\\n\")\n",
    "print(J)\n",
    "print(\"--------------\\n\")\n",
    "print(K)"
   ]
  },
  {
   "cell_type": "code",
   "execution_count": null,
   "id": "5758f0c6",
   "metadata": {},
   "outputs": [],
   "source": [
    "np_arr_24 = np.array([x for x in range(1,25)])"
   ]
  },
  {
   "cell_type": "code",
   "execution_count": null,
   "id": "78cd6462",
   "metadata": {},
   "outputs": [],
   "source": [
    "np.where(np_arr_24%2==0, 'Even', 'Odd')"
   ]
  },
  {
   "cell_type": "code",
   "execution_count": null,
   "id": "64b1c06d",
   "metadata": {},
   "outputs": [],
   "source": [
    "condlist = [np_arr_24<12,np_arr_24>12]"
   ]
  },
  {
   "cell_type": "code",
   "execution_count": null,
   "id": "86db7d98",
   "metadata": {},
   "outputs": [],
   "source": [
    "choicelist = [np_arr_24**2,np_arr_24**0.5]"
   ]
  },
  {
   "cell_type": "code",
   "execution_count": null,
   "id": "0a43425a",
   "metadata": {},
   "outputs": [],
   "source": [
    "np.select(condlist, choicelist, default= np_arr_24)"
   ]
  },
  {
   "cell_type": "code",
   "execution_count": null,
   "id": "cf5ba481",
   "metadata": {},
   "outputs": [],
   "source": [
    "#3.11 is where to start in https://lms.simplilearn.com/courses/2772/Data-Science-with-Python/syllabus"
   ]
  },
  {
   "cell_type": "code",
   "execution_count": null,
   "id": "ef83ba04",
   "metadata": {},
   "outputs": [],
   "source": [
    "np.amin(np_arr_24)"
   ]
  },
  {
   "cell_type": "code",
   "execution_count": null,
   "id": "d01fdfe7",
   "metadata": {},
   "outputs": [],
   "source": [
    "np_arr_24"
   ]
  },
  {
   "cell_type": "code",
   "execution_count": null,
   "id": "ef1286ec",
   "metadata": {},
   "outputs": [],
   "source": [
    "np_arr_24.reshape(3,8)"
   ]
  },
  {
   "cell_type": "code",
   "execution_count": null,
   "id": "15f6cdd4",
   "metadata": {
    "tags": []
   },
   "outputs": [],
   "source": [
    "x = np.array([[1,3,5],[6,8,2],[7,9,4]])\n",
    "print(x)\n",
    "print(\"----\")\n",
    "print(np.amin(x))\n",
    "print(\"----\")\n",
    "print(np.amin( x, axis=0))\n",
    "print(\"----\")\n",
    "print(np.amin( x, axis=1))\n",
    "print(\"----\")\n",
    "print(np.amax( x, axis=0))\n",
    "print(\"----\")\n",
    "print(np.amax( x, axis=1))\n",
    "print(\"----\")\n",
    "print(np.median( x, axis=0))\n",
    "print(\"----\")\n",
    "print(np.median( x, axis=1))\n",
    "print(\"--MEAN--\")\n",
    "print(np.mean( x, axis=0))\n",
    "print(\"----\")\n",
    "print(np.mean( x, axis=1))\n",
    "print(\"----\")\n",
    "print(np.median(x))\n",
    "print(\"----\")\n",
    "print(np.mean(x))\n",
    "print(\"----\")\n",
    "print(np.std(x))\n",
    "print(\"--STD--\")\n",
    "print(np.std(x, axis = 0))\n",
    "print(\"--VAR--\")\n",
    "print(np.var(x, axis = 0))\n",
    "\n",
    "print(\"----\")\n",
    "print(np.std(x, axis = 1))\n",
    "print(\"----\")\n",
    "print(np.var(x, axis = 1))\n",
    "print(\"----\")\n",
    "\n",
    "\n",
    "print(\"--PERCENTILE--\")\n",
    "print(np.percentile(x,55))\n",
    "print(\"----\")\n",
    "\n",
    "print(np.floor(x))\n"
   ]
  },
  {
   "cell_type": "code",
   "execution_count": null,
   "id": "832fc7df",
   "metadata": {},
   "outputs": [],
   "source": [
    "np.amin(x, axis=0)"
   ]
  },
  {
   "cell_type": "code",
   "execution_count": null,
   "id": "04afd6bd",
   "metadata": {
    "tags": []
   },
   "outputs": [],
   "source": [
    "import pandas as pd\n",
    "import numpy as np\n",
    "\n",
    "degree = np.array([0,30,45,62,90,120, 135, 150,180])\n",
    "radians = degree * np.pi/180\n",
    "print (degree)\n",
    "print(np.round(radians,2))\n",
    "print(np.round(np.sin(radians),2))\n",
    "print(np.round(np.cos(radians),2))"
   ]
  },
  {
   "cell_type": "code",
   "execution_count": null,
   "id": "b57c9bc4",
   "metadata": {
    "tags": []
   },
   "outputs": [],
   "source": [
    "print(\"test\")"
   ]
  },
  {
   "cell_type": "code",
   "execution_count": null,
   "id": "228c03c8",
   "metadata": {
    "tags": []
   },
   "outputs": [],
   "source": [
    "import pandas as pd\n",
    "import numpy as np\n",
    "\n",
    "def get_dim_and_size(arr):\n",
    "    print(\"\\n\\n\\n ----------------------------------------\")\n",
    "    print(arr)\n",
    "    print(\"ndim \" + str(np.ndim(arr)))\n",
    "    print(\"size \" + str(np.size(arr)))\n",
    "    shape_arr = np.shape(arr)\n",
    "    print(\"shape \" + str(shape_arr))\n",
    "    print(\" ----------------------------------------\\n\\n\")\n",
    "        \n",
    "def slice_arrays(arr):\n",
    "    print(arr[0:,-1:])\n",
    "        \n",
    "        \n",
    "arr1d = np.array([1,2,3,4,5])\n",
    "arr2d = np.array([[1,2,3],[4,5,6]])\n",
    "arr3d = np.array([[[1,2,3],[4,5,6]],[[7,8,9],[10,11,12]],[[13,14,15],[16,17,18]]])\n",
    "\n",
    "get_dim_and_size(arr1d)\n",
    "get_dim_and_size(arr2d)\n",
    "get_dim_and_size(arr3d)\n",
    "\n",
    "\n",
    "print(arr1d[0])\n",
    "print(arr1d[-3])\n",
    "print(arr2d[1,2])\n",
    "print(arr3d[2,1,-2])\n",
    "\n",
    "slice_arrays(arr2d)\n",
    "print(arr2d[0,-1])\n",
    "\n",
    "\n"
   ]
  },
  {
   "cell_type": "code",
   "execution_count": null,
   "id": "a9a96a85-8596-4b08-a013-86b602cb0e85",
   "metadata": {
    "tags": []
   },
   "outputs": [],
   "source": [
    "import pandas as pd\n",
    "l = [(x+1) for x in range(5)]\n",
    "s = pd.Series(l)\n",
    "print(s)\n",
    "print(l[3])\n",
    "s = pd.Series(l, index=['a','b','c','d','e'])\n",
    "print(s)\n",
    "\n",
    "#dictionary\n",
    "d = {'f':1,'g':2,'h':3}\n",
    "s = pd.Series(d)\n",
    "print(s)\n",
    "\n",
    "s = pd.Series(d,index=['g','f'])\n",
    "print(s)\n"
   ]
  },
  {
   "cell_type": "code",
   "execution_count": null,
   "id": "0270cc00-bc50-4396-8902-0bcc23cec184",
   "metadata": {
    "tags": []
   },
   "outputs": [],
   "source": [
    "import pandas as pd\n",
    "l = [(x+1) for x in range(5)]\n",
    "s = pd.Series(l)\n",
    "print(s)\n",
    "print(l[3])\n",
    "s = pd.Series(l, index=['a','b','c','d','e'])\n",
    "print(s)\n",
    "\n",
    "#dictionary\n",
    "d = {'f':1,'g':2,'h':3}\n",
    "s = pd.Series(d)\n",
    "print(s)\n",
    "\n",
    "s = pd.Series(d,index=['g','f'])\n",
    "print(s)\n"
   ]
  },
  {
   "cell_type": "code",
   "execution_count": null,
   "id": "bd846c35-cbb1-449d-8c3f-0d2404a2cd7e",
   "metadata": {
    "tags": []
   },
   "outputs": [],
   "source": [
    "#3.16 - querying with pandas\n",
    "import pandas as pd\n",
    "import numpy as np\n",
    "\n",
    "s = pd.Series([(x*x+x+1) for x in range(1,11)])\n",
    "print(s)\n",
    "print(s.iloc[0])\n",
    "print(s.iat[0])\n",
    "print(s[3:8])\n",
    "print(s[-8:-3])\n",
    "#print(s.where(s%3==0))\n",
    "print(\"\\n\\n---\\n\")\n",
    "k = pd.Series.copy(s)\n",
    "s.where(s%3==0, inplace=True)\n",
    "print(s)\n",
    "print(s.dropna())\n",
    "print(k.where(k%3==0, np.sqrt(k)))\n",
    "print(\"\\n\\n---\\n\")\n",
    "\n",
    "print(s.where(s%3==0,'Vijay\\'s prime'))\n",
    "\n",
    "\n",
    "\n"
   ]
  },
  {
   "cell_type": "code",
   "execution_count": null,
   "id": "71dbaf64-8839-4006-a052-476036b6f712",
   "metadata": {
    "tags": []
   },
   "outputs": [],
   "source": [
    "import pandas as pd\n",
    "import numpy as np\n",
    "\n",
    "\n",
    "df = pd.DataFrame()\n",
    "type(df)\n",
    "\n",
    "df = pd.read_csv('experto_dhobiwalla_analysis_2pct.csv')\n",
    "\n",
    "df.head()\n",
    "df.tail()\n",
    "df.iloc[20919].rule\n",
    "#read csv based on chunk size and iterate cant be done here\n",
    "\n",
    "df2 = df[df['order_count'] > 50.0]\n",
    "df2.set_index(['rule','order_count','revenue'], inplace=True)\n",
    "#df2\n",
    "#df.index\n",
    "print(df2.loc['Day_of_Week=Thu and Service=Dry_Cleaning and Total_Garment_bucket=bucket_1 and Store_Name=DOMLUR'])\n",
    "\n",
    "\n",
    "df2.cov()\n",
    "\n",
    "\n"
   ]
  },
  {
   "cell_type": "code",
   "execution_count": null,
   "id": "2d0a6dfc-7f4c-4870-82df-121bdfc6bdd3",
   "metadata": {
    "tags": []
   },
   "outputs": [],
   "source": [
    "import pandas as pd\n",
    "import numpy as np\n",
    "\n",
    "df = pd.read_csv('experto_dhobiwalla_analysis_2pct.csv')\n",
    "\n",
    "for index,row in df.iterrows():\n",
    "    print(row['rule'],row['level'],  index)\n"
   ]
  },
  {
   "cell_type": "code",
   "execution_count": null,
   "id": "7a0fe100-f3b0-459a-b0c3-9ca5798e8101",
   "metadata": {
    "tags": []
   },
   "outputs": [],
   "source": [
    "import pandas as pd\n",
    "import numpy as np\n",
    "\n",
    "df = pd.read_csv('experto_dhobiwalla_analysis_2pct.csv')\n",
    "\n",
    "print(df.apply(lambda row:str(row[\"level\"]) + \" \"+  row[\"rule\"] + \" \" +  str(round(row['revenue'] / row['order_count'],2)), axis=1))\n",
    "\n"
   ]
  },
  {
   "cell_type": "code",
   "execution_count": null,
   "id": "645d7ba0-e02c-418b-b58d-439aca6d9b06",
   "metadata": {
    "tags": []
   },
   "outputs": [],
   "source": [
    "import pandas as pd\n",
    "import numpy as np\n",
    "\n",
    "df = pd.read_csv('experto_dhobiwalla_analysis_2pct.csv')\n",
    "\n",
    "df.columns\n",
    "print(df[['revenue', 'order_count']])\n",
    "#df[['order_count','revenue']].plot(x='revenue', y='order_count', legend=True,kind='scatter')\n",
    "df[['level','order_count','revenue']].plot(x='level', y='order_count', legend=True,kind='scatter')\n",
    "\n"
   ]
  },
  {
   "cell_type": "code",
   "execution_count": null,
   "id": "e2e5b12c-6e8b-4cc3-8831-d5c2456fb056",
   "metadata": {
    "tags": []
   },
   "outputs": [],
   "source": [
    "import pandas as pd\n",
    "import numpy as np\n",
    "\n",
    "df = pd.read_csv('experto_dhobiwalla_analysis_2pct.csv')\n",
    "\n",
    "df2 = df[df['rule'].str.contains('Day_of_Week')]\n",
    "df2"
   ]
  },
  {
   "cell_type": "code",
   "execution_count": null,
   "id": "f1d0687f-b8a4-443d-8ce9-13aaae32b84e",
   "metadata": {
    "tags": []
   },
   "outputs": [],
   "source": [
    "import pandas as pd\n",
    "import numpy as np\n",
    "\n",
    "df = pd.read_csv('experto_dhobiwalla_analysis_2pct.csv')\n",
    "\n",
    "print(df.columns)\n",
    "print(df[['revenue', 'order_count']])\n",
    "#df[['order_count','revenue']].plot(x='revenue', y='order_count', legend=True,kind='scatter')\n",
    "df[['level','order_count','revenue']].plot(x='level', y='order_count', legend=True,kind='scatter')\n",
    "\n",
    "\n"
   ]
  },
  {
   "cell_type": "code",
   "execution_count": null,
   "id": "8519bed4-f225-4779-b5d8-c9dc05124efc",
   "metadata": {
    "tags": []
   },
   "outputs": [],
   "source": [
    "import pandas as pd\n",
    "import numpy as np\n",
    "import matplotlib.pyplot as plt\n",
    "from matplotlib import style\n",
    "%matplotlib inline\n",
    "\n",
    "randomnumbers = np.random.rand(100)\n",
    "print(randomnumbers)\n",
    "k = pd.Series(randomnumbers)\n",
    "print(k)\n",
    "style.use('ggplot')\n",
    "plt.plot(randomnumbers, 'g', label='line one', linewidth=2)\n",
    "plt.xlabel('Range')\n",
    "plt.ylabel('Numbers')\n",
    "plt.title('Plot of random numbers')\n",
    "\n",
    "plt.legend()\n",
    "plt.show()\n"
   ]
  },
  {
   "cell_type": "code",
   "execution_count": null,
   "id": "5860729e-c522-41f6-aa69-4a05788fca64",
   "metadata": {},
   "outputs": [],
   "source": [
    "import pandas as pd\n",
    "import numpy as np\n",
    "import matplotlib.pyplot as plt\n",
    "from matplotlib import style\n",
    "%matplotlib inline\n",
    "\n"
   ]
  },
  {
   "cell_type": "code",
   "execution_count": null,
   "id": "43e495f0-d1f7-454b-a157-2f93b7209453",
   "metadata": {
    "tags": []
   },
   "outputs": [],
   "source": [
    "r = [1,2,3,4,5]\n",
    "r.append(8)\n",
    "s=np.array(r)\n",
    "s = np.append(s,9)\n",
    "s"
   ]
  },
  {
   "cell_type": "code",
   "execution_count": null,
   "id": "9a3040ca-528b-4c5b-b7ef-9e4f6e6d34c4",
   "metadata": {
    "tags": []
   },
   "outputs": [],
   "source": [
    "import seaborn as sns\n",
    "import pandas as pd\n",
    "\n",
    "sns.set_theme()\n",
    "fmri = sns.load_dataset(\"fmri\")\n",
    "print(fmri.columns)\n",
    "for x in fmri.columns:\n",
    "    print(x, fmri[x].unique())\n",
    "\n",
    "#d = fmri['subject'].unique()\n",
    "sns.relplot(data=fmri, kind=\"line\", x=\"timepoint\", y=\"signal\",col=\"region\", hue=\"event\", style=\"event\")"
   ]
  },
  {
   "cell_type": "code",
   "execution_count": 271,
   "id": "e597d1d2-1caa-422c-8006-643f3577f3c2",
   "metadata": {
    "tags": []
   },
   "outputs": [
    {
     "data": {
      "text/plain": [
       "array([24.,  6.])"
      ]
     },
     "execution_count": 271,
     "metadata": {},
     "output_type": "execute_result"
    }
   ],
   "source": [
    "#scipy\n",
    "import numpy as np\n",
    "#from scipy import linalg\n",
    "import scipy.linalg as blah\n",
    "\n",
    "#   x   +   y   =    30\n",
    "#  4x   +  9y   =   150 \n",
    "coefficients  = np.array([[1,1],[4,9]])\n",
    "outputs_of_eq = np.array([30,150])\n",
    "\n",
    "blah.solve(coefficients,outputs_of_eq)\n",
    "\n"
   ]
  },
  {
   "cell_type": "code",
   "execution_count": 272,
   "id": "5780863d-f342-400e-a3f5-26cb19888a56",
   "metadata": {
    "tags": []
   },
   "outputs": [
    {
     "name": "stdout",
     "output_type": "stream",
     "text": [
      "dict_keys(['data', 'target', 'frame', 'target_names', 'DESCR', 'feature_names', 'filename', 'data_module'])\n"
     ]
    },
    {
     "data": {
      "text/html": [
       "<div>\n",
       "<style scoped>\n",
       "    .dataframe tbody tr th:only-of-type {\n",
       "        vertical-align: middle;\n",
       "    }\n",
       "\n",
       "    .dataframe tbody tr th {\n",
       "        vertical-align: top;\n",
       "    }\n",
       "\n",
       "    .dataframe thead th {\n",
       "        text-align: right;\n",
       "    }\n",
       "</style>\n",
       "<table border=\"1\" class=\"dataframe\">\n",
       "  <thead>\n",
       "    <tr style=\"text-align: right;\">\n",
       "      <th></th>\n",
       "      <th>mean radius</th>\n",
       "      <th>mean texture</th>\n",
       "      <th>mean perimeter</th>\n",
       "      <th>mean area</th>\n",
       "      <th>mean smoothness</th>\n",
       "      <th>mean compactness</th>\n",
       "      <th>mean concavity</th>\n",
       "      <th>mean concave points</th>\n",
       "      <th>mean symmetry</th>\n",
       "      <th>mean fractal dimension</th>\n",
       "      <th>...</th>\n",
       "      <th>worst radius</th>\n",
       "      <th>worst texture</th>\n",
       "      <th>worst perimeter</th>\n",
       "      <th>worst area</th>\n",
       "      <th>worst smoothness</th>\n",
       "      <th>worst compactness</th>\n",
       "      <th>worst concavity</th>\n",
       "      <th>worst concave points</th>\n",
       "      <th>worst symmetry</th>\n",
       "      <th>worst fractal dimension</th>\n",
       "    </tr>\n",
       "  </thead>\n",
       "  <tbody>\n",
       "    <tr>\n",
       "      <th>0</th>\n",
       "      <td>17.99</td>\n",
       "      <td>10.38</td>\n",
       "      <td>122.80</td>\n",
       "      <td>1001.0</td>\n",
       "      <td>0.11840</td>\n",
       "      <td>0.27760</td>\n",
       "      <td>0.3001</td>\n",
       "      <td>0.14710</td>\n",
       "      <td>0.2419</td>\n",
       "      <td>0.07871</td>\n",
       "      <td>...</td>\n",
       "      <td>25.38</td>\n",
       "      <td>17.33</td>\n",
       "      <td>184.60</td>\n",
       "      <td>2019.0</td>\n",
       "      <td>0.1622</td>\n",
       "      <td>0.6656</td>\n",
       "      <td>0.7119</td>\n",
       "      <td>0.2654</td>\n",
       "      <td>0.4601</td>\n",
       "      <td>0.11890</td>\n",
       "    </tr>\n",
       "    <tr>\n",
       "      <th>1</th>\n",
       "      <td>20.57</td>\n",
       "      <td>17.77</td>\n",
       "      <td>132.90</td>\n",
       "      <td>1326.0</td>\n",
       "      <td>0.08474</td>\n",
       "      <td>0.07864</td>\n",
       "      <td>0.0869</td>\n",
       "      <td>0.07017</td>\n",
       "      <td>0.1812</td>\n",
       "      <td>0.05667</td>\n",
       "      <td>...</td>\n",
       "      <td>24.99</td>\n",
       "      <td>23.41</td>\n",
       "      <td>158.80</td>\n",
       "      <td>1956.0</td>\n",
       "      <td>0.1238</td>\n",
       "      <td>0.1866</td>\n",
       "      <td>0.2416</td>\n",
       "      <td>0.1860</td>\n",
       "      <td>0.2750</td>\n",
       "      <td>0.08902</td>\n",
       "    </tr>\n",
       "    <tr>\n",
       "      <th>2</th>\n",
       "      <td>19.69</td>\n",
       "      <td>21.25</td>\n",
       "      <td>130.00</td>\n",
       "      <td>1203.0</td>\n",
       "      <td>0.10960</td>\n",
       "      <td>0.15990</td>\n",
       "      <td>0.1974</td>\n",
       "      <td>0.12790</td>\n",
       "      <td>0.2069</td>\n",
       "      <td>0.05999</td>\n",
       "      <td>...</td>\n",
       "      <td>23.57</td>\n",
       "      <td>25.53</td>\n",
       "      <td>152.50</td>\n",
       "      <td>1709.0</td>\n",
       "      <td>0.1444</td>\n",
       "      <td>0.4245</td>\n",
       "      <td>0.4504</td>\n",
       "      <td>0.2430</td>\n",
       "      <td>0.3613</td>\n",
       "      <td>0.08758</td>\n",
       "    </tr>\n",
       "    <tr>\n",
       "      <th>3</th>\n",
       "      <td>11.42</td>\n",
       "      <td>20.38</td>\n",
       "      <td>77.58</td>\n",
       "      <td>386.1</td>\n",
       "      <td>0.14250</td>\n",
       "      <td>0.28390</td>\n",
       "      <td>0.2414</td>\n",
       "      <td>0.10520</td>\n",
       "      <td>0.2597</td>\n",
       "      <td>0.09744</td>\n",
       "      <td>...</td>\n",
       "      <td>14.91</td>\n",
       "      <td>26.50</td>\n",
       "      <td>98.87</td>\n",
       "      <td>567.7</td>\n",
       "      <td>0.2098</td>\n",
       "      <td>0.8663</td>\n",
       "      <td>0.6869</td>\n",
       "      <td>0.2575</td>\n",
       "      <td>0.6638</td>\n",
       "      <td>0.17300</td>\n",
       "    </tr>\n",
       "    <tr>\n",
       "      <th>4</th>\n",
       "      <td>20.29</td>\n",
       "      <td>14.34</td>\n",
       "      <td>135.10</td>\n",
       "      <td>1297.0</td>\n",
       "      <td>0.10030</td>\n",
       "      <td>0.13280</td>\n",
       "      <td>0.1980</td>\n",
       "      <td>0.10430</td>\n",
       "      <td>0.1809</td>\n",
       "      <td>0.05883</td>\n",
       "      <td>...</td>\n",
       "      <td>22.54</td>\n",
       "      <td>16.67</td>\n",
       "      <td>152.20</td>\n",
       "      <td>1575.0</td>\n",
       "      <td>0.1374</td>\n",
       "      <td>0.2050</td>\n",
       "      <td>0.4000</td>\n",
       "      <td>0.1625</td>\n",
       "      <td>0.2364</td>\n",
       "      <td>0.07678</td>\n",
       "    </tr>\n",
       "  </tbody>\n",
       "</table>\n",
       "<p>5 rows × 30 columns</p>\n",
       "</div>"
      ],
      "text/plain": [
       "   mean radius  mean texture  mean perimeter  mean area  mean smoothness  \\\n",
       "0        17.99         10.38          122.80     1001.0          0.11840   \n",
       "1        20.57         17.77          132.90     1326.0          0.08474   \n",
       "2        19.69         21.25          130.00     1203.0          0.10960   \n",
       "3        11.42         20.38           77.58      386.1          0.14250   \n",
       "4        20.29         14.34          135.10     1297.0          0.10030   \n",
       "\n",
       "   mean compactness  mean concavity  mean concave points  mean symmetry  \\\n",
       "0           0.27760          0.3001              0.14710         0.2419   \n",
       "1           0.07864          0.0869              0.07017         0.1812   \n",
       "2           0.15990          0.1974              0.12790         0.2069   \n",
       "3           0.28390          0.2414              0.10520         0.2597   \n",
       "4           0.13280          0.1980              0.10430         0.1809   \n",
       "\n",
       "   mean fractal dimension  ...  worst radius  worst texture  worst perimeter  \\\n",
       "0                 0.07871  ...         25.38          17.33           184.60   \n",
       "1                 0.05667  ...         24.99          23.41           158.80   \n",
       "2                 0.05999  ...         23.57          25.53           152.50   \n",
       "3                 0.09744  ...         14.91          26.50            98.87   \n",
       "4                 0.05883  ...         22.54          16.67           152.20   \n",
       "\n",
       "   worst area  worst smoothness  worst compactness  worst concavity  \\\n",
       "0      2019.0            0.1622             0.6656           0.7119   \n",
       "1      1956.0            0.1238             0.1866           0.2416   \n",
       "2      1709.0            0.1444             0.4245           0.4504   \n",
       "3       567.7            0.2098             0.8663           0.6869   \n",
       "4      1575.0            0.1374             0.2050           0.4000   \n",
       "\n",
       "   worst concave points  worst symmetry  worst fractal dimension  \n",
       "0                0.2654          0.4601                  0.11890  \n",
       "1                0.1860          0.2750                  0.08902  \n",
       "2                0.2430          0.3613                  0.08758  \n",
       "3                0.2575          0.6638                  0.17300  \n",
       "4                0.1625          0.2364                  0.07678  \n",
       "\n",
       "[5 rows x 30 columns]"
      ]
     },
     "execution_count": 272,
     "metadata": {},
     "output_type": "execute_result"
    }
   ],
   "source": [
    "#scikit-learn\n",
    "\n",
    "import numpy as np\n",
    "from sklearn import datasets\n",
    "import pandas as pd\n",
    "\n",
    "data = datasets.load_breast_cancer()\n",
    "print(data.keys())\n",
    "data['data']\n",
    "\n",
    "df = pd.DataFrame(data.data, columns=data.feature_names)\n",
    "df.head()"
   ]
  },
  {
   "cell_type": "code",
   "execution_count": 273,
   "id": "b8130f11-3da5-4bd7-991b-cc84e88405ec",
   "metadata": {
    "tags": []
   },
   "outputs": [
    {
     "name": "stdout",
     "output_type": "stream",
     "text": [
      "Vijay\n"
     ]
    }
   ],
   "source": [
    "print (\"Vijay\")"
   ]
  },
  {
   "cell_type": "code",
   "execution_count": 1,
   "id": "a75c193b-6f54-402c-a79e-cff8591aaf92",
   "metadata": {
    "tags": []
   },
   "outputs": [
    {
     "name": "stdout",
     "output_type": "stream",
     "text": [
      "For an array size of 23, a trial count of 100 and an experiment count of 300, the mean is 50.6 with a std-dev of 4.8\n"
     ]
    }
   ],
   "source": [
    "from random import random\n",
    "from random import randint\n",
    "from random import seed\n",
    "import numpy as np\n",
    "\n",
    "seed(37)\n",
    "\n",
    "#function to generate an array of random numbers\n",
    "def generate_array_of_random(array_size, low_range, high_range):\n",
    "    arr = np.random.randint(low_range,high_range,array_size)\n",
    "    return np.sort(arr)\n",
    "\n",
    "#function that runs the trials for a given array_size\n",
    "def run_experiment(array_size, trial_count):\n",
    "    count_inciding_birthday_found = 0\n",
    "    #loop for 'trial_count' times we run the \n",
    "    for trials in range(1, trial_count):\n",
    "        arr = generate_array_of_random(array_size, 1, 365) #365 days the year\n",
    "        if (len(np.unique(arr)) < array_size):\n",
    "            count_inciding_birthday_found = count_inciding_birthday_found + 1\n",
    "    return round(100 * count_inciding_birthday_found / trial_count, 1)\n",
    "\n",
    "#########\n",
    "#main code\n",
    "array_size = 23   # the proposed answer to check if we can get a 50% chance of coincidence of birthday\n",
    "trials_count = 100 # how many times to form a array of 'array_size' \n",
    "experiment_count = 300\n",
    "\n",
    "arr = np.array([])\n",
    "for x in range(0,experiment_count):\n",
    "    arr = np.append(arr,run_experiment(array_size, trials_count))\n",
    "        \n",
    "print(\"For an array size of \" + str(array_size) + \\\n",
    "      \", a trial count of \" + str(trials_count) + \\\n",
    "      \" and an experiment count of \" + str(experiment_count) + \\\n",
    "      \", the mean is \" + str(round(np.mean(arr),1)) +\\\n",
    "      \" with a std-dev of \" + str(round(np.std(arr),1)))\n",
    "\n"
   ]
  },
  {
   "cell_type": "code",
   "execution_count": 15,
   "id": "1e54b24e-fa93-4be3-a0a9-57f1cbd4c6bb",
   "metadata": {},
   "outputs": [
    {
     "name": "stdout",
     "output_type": "stream",
     "text": [
      "['name', 'age']\n"
     ]
    }
   ],
   "source": [
    "# Create a dictionary\n",
    "my_dict = {\n",
    "    \"name\": \"John\",\n",
    "    \"age\": 25\n",
    "}\n",
    "\n",
    "# Get the keys of the dictionary\n",
    "keys = my_dict.keys()\n",
    "\n",
    "# Convert the keys to a list\n",
    "keys_list = list(keys)\n",
    "\n",
    "# Print the keys list\n",
    "print(keys_list)"
   ]
  },
  {
   "cell_type": "code",
   "execution_count": null,
   "id": "cc14eabd-a452-4c81-a470-a5615859df14",
   "metadata": {},
   "outputs": [],
   "source": []
  },
  {
   "cell_type": "code",
   "execution_count": null,
   "id": "5dcd4d35-e385-4ca1-978a-9cf5bdd3d8a4",
   "metadata": {},
   "outputs": [],
   "source": []
  },
  {
   "cell_type": "code",
   "execution_count": null,
   "id": "b98b31f7-edc3-49e4-afd8-5b0f78aafbb3",
   "metadata": {},
   "outputs": [],
   "source": []
  },
  {
   "cell_type": "code",
   "execution_count": null,
   "id": "f7e7e09c-4e94-46d5-9f05-a9e124099624",
   "metadata": {},
   "outputs": [],
   "source": []
  },
  {
   "cell_type": "code",
   "execution_count": null,
   "id": "9daa2fd1-5abd-4cf1-8a81-533f22d569d5",
   "metadata": {},
   "outputs": [],
   "source": []
  },
  {
   "cell_type": "code",
   "execution_count": null,
   "id": "35966421-1f83-486c-8789-486adfb44436",
   "metadata": {},
   "outputs": [],
   "source": []
  },
  {
   "cell_type": "code",
   "execution_count": null,
   "id": "301562ee-3c64-47e8-b305-2af260f23724",
   "metadata": {},
   "outputs": [],
   "source": []
  }
 ],
 "metadata": {
  "kernelspec": {
   "display_name": "Python 3 (ipykernel)",
   "language": "python",
   "name": "python3"
  },
  "language_info": {
   "codemirror_mode": {
    "name": "ipython",
    "version": 3
   },
   "file_extension": ".py",
   "mimetype": "text/x-python",
   "name": "python",
   "nbconvert_exporter": "python",
   "pygments_lexer": "ipython3",
   "version": "3.9.6"
  }
 },
 "nbformat": 4,
 "nbformat_minor": 5
}
