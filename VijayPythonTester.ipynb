{
 "cells": [
  {
   "cell_type": "code",
   "execution_count": null,
   "id": "5327fe5e-1aee-43c8-b85f-dcf6f1932163",
   "metadata": {
    "tags": []
   },
   "outputs": [],
   "source": [
    "import numpy as np\n",
    "\n",
    "matrix = [[1,2,3,4],\n",
    "          [5,6,7,8],\n",
    "          [9,10,11,12],]\n",
    "\n",
    "a = np.array(matrix)\n",
    "\n",
    "print (a)\n",
    "\n",
    "for i in [0,1,2,3]:\n",
    "    for row in matrix:\n",
    "        print (row[i], end=\"---\")\n",
    "\n",
    "\n",
    "#efficient way to transpose a matrix\n",
    "transpose = [ \n",
    "    [row[i] for row in matrix]\n",
    "    for i in range(4)\n",
    "]   \n",
    "print (transpose)\n",
    "\n"
   ]
  },
  {
   "cell_type": "code",
   "execution_count": 1,
   "id": "8289a540-19d5-4409-9f65-276f3fea4c56",
   "metadata": {
    "tags": []
   },
   "outputs": [
    {
     "name": "stdout",
     "output_type": "stream",
     "text": [
      "Critical value: 53.383540622969356\n"
     ]
    }
   ],
   "source": [
    "from scipy.stats import chi2\n",
    "\n",
    "alpha = 0.05  # Significance level\n",
    "df = 38  # Degrees of freedom\n",
    "\n",
    "critical_value = chi2.ppf(1 - alpha, df)\n",
    "print(\"Critical value:\", critical_value)\n"
   ]
  },
  {
   "cell_type": "code",
   "execution_count": 2,
   "id": "df8fc109-0aae-4b1e-9002-af4c430c3c0c",
   "metadata": {
    "tags": []
   },
   "outputs": [
    {
     "name": "stdout",
     "output_type": "stream",
     "text": [
      "0\n",
      "1\n",
      "2\n",
      "3\n",
      "4\n",
      "5\n",
      "6\n"
     ]
    }
   ],
   "source": [
    "for i in range(7):\n",
    "    print(i)"
   ]
  },
  {
   "cell_type": "code",
   "execution_count": 15,
   "id": "d5935871-d2d2-4512-9e61-cea45608310e",
   "metadata": {
    "tags": []
   },
   "outputs": [
    {
     "name": "stdout",
     "output_type": "stream",
     "text": [
      "[[1, 2], [3, 4], [5, 6]]\n"
     ]
    }
   ],
   "source": [
    "my_list = [[1, 2], [3, 4], [2, 1], [5, 6], [3, 4]]\n",
    "\n",
    "for i in my_list:\n",
    "    i.sort()\n",
    "\n",
    "# Convert each inner list to a tuple\n",
    "my_list_tuples = [tuple(lst) for lst in my_list]\n",
    "\n",
    "# Use set() to remove duplicates\n",
    "unique_list_tuples = set(my_list_tuples)\n",
    "\n",
    "j = []\n",
    "for i  in unique_list_tuples:\n",
    "    p = []\n",
    "    for k in i:\n",
    "        p.append(k)\n",
    "    j.append(p)\n",
    "    \n",
    "# Convert back to lists\n",
    "# unique_list = [list(tpl) for tpl in unique_list_tuples]\n",
    "\n",
    "print(j)\n"
   ]
  }
 ],
 "metadata": {
  "kernelspec": {
   "display_name": "Python 3 (ipykernel)",
   "language": "python",
   "name": "python3"
  },
  "language_info": {
   "codemirror_mode": {
    "name": "ipython",
    "version": 3
   },
   "file_extension": ".py",
   "mimetype": "text/x-python",
   "name": "python",
   "nbconvert_exporter": "python",
   "pygments_lexer": "ipython3",
   "version": "3.9.6"
  }
 },
 "nbformat": 4,
 "nbformat_minor": 5
}
